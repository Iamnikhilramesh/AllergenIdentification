{
 "cells": [
  {
   "cell_type": "code",
   "execution_count": 4,
   "metadata": {},
   "outputs": [],
   "source": [
    "text = '''\n",
    "Socker, palmolja/palmeolie,-\n",
    "mar\n",
    "kataosmör, kakaomassa, mandel (3%), vassle-/valle-/mysepulver\n",
    "(mjölk/mælk/melk), skummjölkspulver, smörfett/smørolie\n",
    "Imelkefett, vassle-/valle-/myseprodukt (mjölk), sockrad kondenserad\n",
    "skummjölk, salt, emulgeringsmedel/emulgator (sojalecitin), aromer.\n",
    "Maitosuklaata (42%) täytteenä mantelikrokanttia. Ainekset:\n",
    "Sokeri, palmuöljy, kaakaovoi, kaakaomassa, mantelit (3%), herajauhe\n",
    "(maito), rasvaton maitojauhe, voiöljy, heratuote (maito), sokeroitu\n",
    "rasvaton maitotiiviste, suola, emulgointiaine (soijalesitiini), aromit.\n",
    "Bäst före/Bedst før/Best før/Parasta ennen:\n",
    "Mondelez Sverige 020-720026\n",
    "Mondelez Danmark 70145093 08.03.2020 OUV2091932\n",
    "Mondelez Norge 21 53 08 57\n",
    "Mondelez Finland a 0800-411410\n",
    "tu.mondelezinternational.com\n",
    "ATA\n",
    "8.7 g\n",
    "620 kJ/150 kcal |7%\n",
    "CinvarasiOnbevares torrt\n",
    "12%\n",
    "www.cocoame.org \n",
    "'''\n"
   ]
  },
  {
   "cell_type": "code",
   "execution_count": 5,
   "metadata": {},
   "outputs": [
    {
     "name": "stdout",
     "output_type": "stream",
     "text": [
      "<class 'str'>\n"
     ]
    }
   ],
   "source": [
    "print(type(text))\n",
    "if type(text) is not str:\n",
    "        raise TypeError(\"Given data is not supported\")"
   ]
  },
  {
   "cell_type": "code",
   "execution_count": 11,
   "metadata": {},
   "outputs": [],
   "source": [
    "#Required Packages\n",
    "from googletrans import Translator\n",
    "import string\n",
    "def app(text):\n",
    "    try:\n",
    "        if type(text) is not str:\n",
    "            raise TypeError(\"Given data is not supported\")\n",
    "        elif type(text) is str:\n",
    "        #common Allergens\n",
    "            allergen = ['milk','milk powder','cheese','butter','margarine','yogurt',\n",
    "                        'cream','ice cream','celery','prawns','crabs','lobsters','eggs',\n",
    "                        'egg','fish','lupin','mussels','oysters','mustard','almonds',\n",
    "                        'hazelnuts','walnuts','brazil nuts','cashews','pecans','peanuts',\n",
    "                        'sesame seeds','soybeans']\n",
    "\n",
    "            #converting all text to lower case\n",
    "            [x.lower() for x in text]\n",
    "\n",
    "            #translate the text\n",
    "            translator = Translator()\n",
    "            translated = translator.translate(text)\n",
    "            temp = translated.text\n",
    "\n",
    "            # split into words by white space\n",
    "            words = temp.split()\n",
    "\n",
    "            # remove punctuation from each word\n",
    "            table = str.maketrans('', '', string.punctuation)\n",
    "            stripped = [w.translate(table) for w in words]\n",
    "\n",
    "            #print(\"Translated Text : \", stripped)\n",
    "            c = set([value for value in stripped if value in allergen])\n",
    "            print(\"Common allergen Ingredients are \" ,c)\n",
    "        else:\n",
    "            raise ValueError(\"I am unable to Process\")    \n",
    "    except:\n",
    "        print(\"Unknow Error!!!! I am unable to Process\")"
   ]
  },
  {
   "cell_type": "code",
   "execution_count": 12,
   "metadata": {
    "scrolled": true
   },
   "outputs": [
    {
     "name": "stdout",
     "output_type": "stream",
     "text": [
      "Common allergen Ingredients are  {'milk', 'butter', 'almonds'}\n"
     ]
    }
   ],
   "source": [
    "app(text)"
   ]
  },
  {
   "cell_type": "code",
   "execution_count": 8,
   "metadata": {},
   "outputs": [
    {
     "ename": "SyntaxError",
     "evalue": "invalid syntax (<ipython-input-8-1a32cee61e44>, line 1)",
     "output_type": "error",
     "traceback": [
      "\u001b[0;36m  File \u001b[0;32m\"<ipython-input-8-1a32cee61e44>\"\u001b[0;36m, line \u001b[0;32m1\u001b[0m\n\u001b[0;31m    'milk' :\"\",\u001b[0m\n\u001b[0m              ^\u001b[0m\n\u001b[0;31mSyntaxError\u001b[0m\u001b[0;31m:\u001b[0m invalid syntax\n"
     ]
    }
   ],
   "source": [
    "'milk' :\"\",\n",
    "'milk powder':\"\",\n",
    "'cheese':\"\",\n",
    "'butter':\"\",\n",
    "'margarine':\"\",\n",
    "'yogurt':\"\",\n",
    "'cream':\"\",\n",
    "'ice cream':\"\",\n",
    "'celery':\"\",\n",
    "'prawns':\"\",\n",
    "'crabs':\"\",\n",
    "'lobsters':\"\",\n",
    "'eggs':\"\",\n",
    "'egg':\"\",\n",
    "'fish':\"\",\n",
    "'lupin':\"\",\n",
    "'mussels':\"\",\n",
    "'oysters':\"\",\n",
    "'mustard':\"\",\n",
    "'almonds':\"\",\n",
    "'hazelnuts':\"\",\n",
    "'walnuts':\"\",\n",
    "'brazil nuts':\"\",\n",
    "'cashews':\"\",\n",
    "'pecans':\"\",\n",
    "'peanuts':\"\",\n",
    "'sesame seeds':\"\",\n",
    "'soybeans':\"\""
   ]
  },
  {
   "cell_type": "code",
   "execution_count": null,
   "metadata": {},
   "outputs": [],
   "source": []
  }
 ],
 "metadata": {
  "kernelspec": {
   "display_name": "Python 3",
   "language": "python",
   "name": "python3"
  },
  "language_info": {
   "codemirror_mode": {
    "name": "ipython",
    "version": 3
   },
   "file_extension": ".py",
   "mimetype": "text/x-python",
   "name": "python",
   "nbconvert_exporter": "python",
   "pygments_lexer": "ipython3",
   "version": "3.6.4"
  }
 },
 "nbformat": 4,
 "nbformat_minor": 2
}
